{
 "cells": [
  {
   "attachments": {},
   "cell_type": "markdown",
   "metadata": {},
   "source": [
    "Sacar un gráfico que muestre columnas.\n",
    "\n",
    "Mapa de calor correlación data original, otro de train y otro de test.\n",
    "\n",
    "Siguiente sacar gráfico que muestre la distribución de author y geometry y por ello se muestra que se ha establecido como moda.\n",
    "\n",
    "En cuanto a las columnas numéricas, hacer más menos lo mismo y ver cuales son los valores que se han establecido y el por qué.\n",
    "\n",
    "### Post modelo\n",
    "\n",
    "Feature Importances\n",
    "\n",
    "Gráfico que muestre los valores reles con los predichos para ver como se distribuyen los datos, así como ver outliers."
   ]
  }
 ],
 "metadata": {
  "language_info": {
   "name": "python"
  },
  "orig_nbformat": 4
 },
 "nbformat": 4,
 "nbformat_minor": 2
}
