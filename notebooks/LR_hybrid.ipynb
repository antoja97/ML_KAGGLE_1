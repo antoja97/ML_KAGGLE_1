{
 "cells": [
  {
   "cell_type": "code",
   "execution_count": 1,
   "metadata": {},
   "outputs": [],
   "source": [
    "import pandas as pd\n",
    "import numpy as np"
   ]
  },
  {
   "cell_type": "code",
   "execution_count": 3,
   "metadata": {},
   "outputs": [
    {
     "data": {
      "text/html": [
       "<div>\n",
       "<style scoped>\n",
       "    .dataframe tbody tr th:only-of-type {\n",
       "        vertical-align: middle;\n",
       "    }\n",
       "\n",
       "    .dataframe tbody tr th {\n",
       "        vertical-align: top;\n",
       "    }\n",
       "\n",
       "    .dataframe thead th {\n",
       "        text-align: right;\n",
       "    }\n",
       "</style>\n",
       "<table border=\"1\" class=\"dataframe\">\n",
       "  <thead>\n",
       "    <tr style=\"text-align: right;\">\n",
       "      <th></th>\n",
       "      <th>id</th>\n",
       "      <th>author</th>\n",
       "      <th>geometry</th>\n",
       "      <th>pressure [MPa]</th>\n",
       "      <th>mass_flux [kg/m2-s]</th>\n",
       "      <th>x_e_out [-]</th>\n",
       "      <th>D_e [mm]</th>\n",
       "      <th>D_h [mm]</th>\n",
       "      <th>length [mm]</th>\n",
       "      <th>chf_exp [MW/m2]</th>\n",
       "    </tr>\n",
       "  </thead>\n",
       "  <tbody>\n",
       "    <tr>\n",
       "      <th>0</th>\n",
       "      <td>0</td>\n",
       "      <td>Thompson</td>\n",
       "      <td>tube</td>\n",
       "      <td>7.00</td>\n",
       "      <td>3770.0</td>\n",
       "      <td>0.1754</td>\n",
       "      <td>NaN</td>\n",
       "      <td>10.8</td>\n",
       "      <td>432.0</td>\n",
       "      <td>3.6</td>\n",
       "    </tr>\n",
       "    <tr>\n",
       "      <th>1</th>\n",
       "      <td>1</td>\n",
       "      <td>Thompson</td>\n",
       "      <td>tube</td>\n",
       "      <td>NaN</td>\n",
       "      <td>6049.0</td>\n",
       "      <td>-0.0416</td>\n",
       "      <td>10.3</td>\n",
       "      <td>10.3</td>\n",
       "      <td>762.0</td>\n",
       "      <td>6.2</td>\n",
       "    </tr>\n",
       "    <tr>\n",
       "      <th>2</th>\n",
       "      <td>2</td>\n",
       "      <td>Thompson</td>\n",
       "      <td>NaN</td>\n",
       "      <td>13.79</td>\n",
       "      <td>2034.0</td>\n",
       "      <td>0.0335</td>\n",
       "      <td>7.7</td>\n",
       "      <td>7.7</td>\n",
       "      <td>457.0</td>\n",
       "      <td>2.5</td>\n",
       "    </tr>\n",
       "    <tr>\n",
       "      <th>3</th>\n",
       "      <td>3</td>\n",
       "      <td>Beus</td>\n",
       "      <td>annulus</td>\n",
       "      <td>13.79</td>\n",
       "      <td>3679.0</td>\n",
       "      <td>-0.0279</td>\n",
       "      <td>5.6</td>\n",
       "      <td>15.2</td>\n",
       "      <td>2134.0</td>\n",
       "      <td>3.0</td>\n",
       "    </tr>\n",
       "    <tr>\n",
       "      <th>4</th>\n",
       "      <td>4</td>\n",
       "      <td>NaN</td>\n",
       "      <td>tube</td>\n",
       "      <td>13.79</td>\n",
       "      <td>686.0</td>\n",
       "      <td>NaN</td>\n",
       "      <td>11.1</td>\n",
       "      <td>11.1</td>\n",
       "      <td>457.0</td>\n",
       "      <td>2.8</td>\n",
       "    </tr>\n",
       "    <tr>\n",
       "      <th>...</th>\n",
       "      <td>...</td>\n",
       "      <td>...</td>\n",
       "      <td>...</td>\n",
       "      <td>...</td>\n",
       "      <td>...</td>\n",
       "      <td>...</td>\n",
       "      <td>...</td>\n",
       "      <td>...</td>\n",
       "      <td>...</td>\n",
       "      <td>...</td>\n",
       "    </tr>\n",
       "    <tr>\n",
       "      <th>31639</th>\n",
       "      <td>31639</td>\n",
       "      <td>Thompson</td>\n",
       "      <td>NaN</td>\n",
       "      <td>NaN</td>\n",
       "      <td>1736.0</td>\n",
       "      <td>0.0886</td>\n",
       "      <td>NaN</td>\n",
       "      <td>7.8</td>\n",
       "      <td>591.0</td>\n",
       "      <td>2.3</td>\n",
       "    </tr>\n",
       "    <tr>\n",
       "      <th>31640</th>\n",
       "      <td>31640</td>\n",
       "      <td>NaN</td>\n",
       "      <td>NaN</td>\n",
       "      <td>13.79</td>\n",
       "      <td>NaN</td>\n",
       "      <td>NaN</td>\n",
       "      <td>4.7</td>\n",
       "      <td>4.7</td>\n",
       "      <td>NaN</td>\n",
       "      <td>3.9</td>\n",
       "    </tr>\n",
       "    <tr>\n",
       "      <th>31641</th>\n",
       "      <td>31641</td>\n",
       "      <td>Thompson</td>\n",
       "      <td>NaN</td>\n",
       "      <td>18.27</td>\n",
       "      <td>658.0</td>\n",
       "      <td>-0.1224</td>\n",
       "      <td>3.0</td>\n",
       "      <td>3.0</td>\n",
       "      <td>150.0</td>\n",
       "      <td>2.3</td>\n",
       "    </tr>\n",
       "    <tr>\n",
       "      <th>31642</th>\n",
       "      <td>31642</td>\n",
       "      <td>Thompson</td>\n",
       "      <td>tube</td>\n",
       "      <td>6.89</td>\n",
       "      <td>3825.0</td>\n",
       "      <td>NaN</td>\n",
       "      <td>23.6</td>\n",
       "      <td>23.6</td>\n",
       "      <td>1972.0</td>\n",
       "      <td>3.7</td>\n",
       "    </tr>\n",
       "    <tr>\n",
       "      <th>31643</th>\n",
       "      <td>31643</td>\n",
       "      <td>NaN</td>\n",
       "      <td>tube</td>\n",
       "      <td>6.89</td>\n",
       "      <td>7568.0</td>\n",
       "      <td>0.0603</td>\n",
       "      <td>12.8</td>\n",
       "      <td>12.8</td>\n",
       "      <td>1930.0</td>\n",
       "      <td>3.3</td>\n",
       "    </tr>\n",
       "  </tbody>\n",
       "</table>\n",
       "<p>31644 rows × 10 columns</p>\n",
       "</div>"
      ],
      "text/plain": [
       "          id    author geometry  pressure [MPa]  mass_flux [kg/m2-s]  \\\n",
       "0          0  Thompson     tube            7.00               3770.0   \n",
       "1          1  Thompson     tube             NaN               6049.0   \n",
       "2          2  Thompson      NaN           13.79               2034.0   \n",
       "3          3      Beus  annulus           13.79               3679.0   \n",
       "4          4       NaN     tube           13.79                686.0   \n",
       "...      ...       ...      ...             ...                  ...   \n",
       "31639  31639  Thompson      NaN             NaN               1736.0   \n",
       "31640  31640       NaN      NaN           13.79                  NaN   \n",
       "31641  31641  Thompson      NaN           18.27                658.0   \n",
       "31642  31642  Thompson     tube            6.89               3825.0   \n",
       "31643  31643       NaN     tube            6.89               7568.0   \n",
       "\n",
       "       x_e_out [-]  D_e [mm]  D_h [mm]  length [mm]  chf_exp [MW/m2]  \n",
       "0           0.1754       NaN      10.8        432.0              3.6  \n",
       "1          -0.0416      10.3      10.3        762.0              6.2  \n",
       "2           0.0335       7.7       7.7        457.0              2.5  \n",
       "3          -0.0279       5.6      15.2       2134.0              3.0  \n",
       "4              NaN      11.1      11.1        457.0              2.8  \n",
       "...            ...       ...       ...          ...              ...  \n",
       "31639       0.0886       NaN       7.8        591.0              2.3  \n",
       "31640          NaN       4.7       4.7          NaN              3.9  \n",
       "31641      -0.1224       3.0       3.0        150.0              2.3  \n",
       "31642          NaN      23.6      23.6       1972.0              3.7  \n",
       "31643       0.0603      12.8      12.8       1930.0              3.3  \n",
       "\n",
       "[31644 rows x 10 columns]"
      ]
     },
     "execution_count": 3,
     "metadata": {},
     "output_type": "execute_result"
    }
   ],
   "source": [
    "df=pd.read_csv(\"/Users/antoniojaenarias/Desktop/DATA SCIENCE/TODO/ML_KAGGLE_1/data/data.csv\")\n",
    "df"
   ]
  },
  {
   "cell_type": "code",
   "execution_count": 4,
   "metadata": {},
   "outputs": [
    {
     "data": {
      "text/html": [
       "<div>\n",
       "<style scoped>\n",
       "    .dataframe tbody tr th:only-of-type {\n",
       "        vertical-align: middle;\n",
       "    }\n",
       "\n",
       "    .dataframe tbody tr th {\n",
       "        vertical-align: top;\n",
       "    }\n",
       "\n",
       "    .dataframe thead th {\n",
       "        text-align: right;\n",
       "    }\n",
       "</style>\n",
       "<table border=\"1\" class=\"dataframe\">\n",
       "  <thead>\n",
       "    <tr style=\"text-align: right;\">\n",
       "      <th></th>\n",
       "      <th>id</th>\n",
       "      <th>author</th>\n",
       "      <th>geometry</th>\n",
       "      <th>pressure [MPa]</th>\n",
       "      <th>mass_flux [kg/m2-s]</th>\n",
       "      <th>x_e_out [-]</th>\n",
       "      <th>D_e [mm]</th>\n",
       "      <th>D_h [mm]</th>\n",
       "      <th>length [mm]</th>\n",
       "      <th>chf_exp [MW/m2]</th>\n",
       "    </tr>\n",
       "  </thead>\n",
       "  <tbody>\n",
       "    <tr>\n",
       "      <th>0</th>\n",
       "      <td>4</td>\n",
       "      <td>NaN</td>\n",
       "      <td>tube</td>\n",
       "      <td>13.79</td>\n",
       "      <td>686.0</td>\n",
       "      <td>NaN</td>\n",
       "      <td>11.1</td>\n",
       "      <td>11.1</td>\n",
       "      <td>457.0</td>\n",
       "      <td>2.8</td>\n",
       "    </tr>\n",
       "    <tr>\n",
       "      <th>1</th>\n",
       "      <td>7</td>\n",
       "      <td>Peskov</td>\n",
       "      <td>tube</td>\n",
       "      <td>18.00</td>\n",
       "      <td>750.0</td>\n",
       "      <td>NaN</td>\n",
       "      <td>10.0</td>\n",
       "      <td>10.0</td>\n",
       "      <td>1650.0</td>\n",
       "      <td>2.2</td>\n",
       "    </tr>\n",
       "    <tr>\n",
       "      <th>2</th>\n",
       "      <td>10</td>\n",
       "      <td>Thompson</td>\n",
       "      <td>tube</td>\n",
       "      <td>NaN</td>\n",
       "      <td>NaN</td>\n",
       "      <td>NaN</td>\n",
       "      <td>1.9</td>\n",
       "      <td>1.9</td>\n",
       "      <td>152.0</td>\n",
       "      <td>3.2</td>\n",
       "    </tr>\n",
       "    <tr>\n",
       "      <th>3</th>\n",
       "      <td>12</td>\n",
       "      <td>Thompson</td>\n",
       "      <td>NaN</td>\n",
       "      <td>6.89</td>\n",
       "      <td>7500.0</td>\n",
       "      <td>NaN</td>\n",
       "      <td>NaN</td>\n",
       "      <td>12.8</td>\n",
       "      <td>1930.0</td>\n",
       "      <td>4.8</td>\n",
       "    </tr>\n",
       "    <tr>\n",
       "      <th>4</th>\n",
       "      <td>23</td>\n",
       "      <td>Beus</td>\n",
       "      <td>annulus</td>\n",
       "      <td>15.51</td>\n",
       "      <td>1355.0</td>\n",
       "      <td>NaN</td>\n",
       "      <td>5.6</td>\n",
       "      <td>15.2</td>\n",
       "      <td>2134.0</td>\n",
       "      <td>2.1</td>\n",
       "    </tr>\n",
       "    <tr>\n",
       "      <th>...</th>\n",
       "      <td>...</td>\n",
       "      <td>...</td>\n",
       "      <td>...</td>\n",
       "      <td>...</td>\n",
       "      <td>...</td>\n",
       "      <td>...</td>\n",
       "      <td>...</td>\n",
       "      <td>...</td>\n",
       "      <td>...</td>\n",
       "      <td>...</td>\n",
       "    </tr>\n",
       "    <tr>\n",
       "      <th>10410</th>\n",
       "      <td>31633</td>\n",
       "      <td>Thompson</td>\n",
       "      <td>tube</td>\n",
       "      <td>11.03</td>\n",
       "      <td>NaN</td>\n",
       "      <td>NaN</td>\n",
       "      <td>11.5</td>\n",
       "      <td>11.5</td>\n",
       "      <td>NaN</td>\n",
       "      <td>2.0</td>\n",
       "    </tr>\n",
       "    <tr>\n",
       "      <th>10411</th>\n",
       "      <td>31634</td>\n",
       "      <td>Richenderfer</td>\n",
       "      <td>plate</td>\n",
       "      <td>1.01</td>\n",
       "      <td>2000.0</td>\n",
       "      <td>NaN</td>\n",
       "      <td>15.0</td>\n",
       "      <td>120.0</td>\n",
       "      <td>10.0</td>\n",
       "      <td>6.2</td>\n",
       "    </tr>\n",
       "    <tr>\n",
       "      <th>10412</th>\n",
       "      <td>31637</td>\n",
       "      <td>Weatherhead</td>\n",
       "      <td>tube</td>\n",
       "      <td>13.79</td>\n",
       "      <td>688.0</td>\n",
       "      <td>NaN</td>\n",
       "      <td>NaN</td>\n",
       "      <td>11.1</td>\n",
       "      <td>457.0</td>\n",
       "      <td>2.3</td>\n",
       "    </tr>\n",
       "    <tr>\n",
       "      <th>10413</th>\n",
       "      <td>31640</td>\n",
       "      <td>NaN</td>\n",
       "      <td>NaN</td>\n",
       "      <td>13.79</td>\n",
       "      <td>NaN</td>\n",
       "      <td>NaN</td>\n",
       "      <td>4.7</td>\n",
       "      <td>4.7</td>\n",
       "      <td>NaN</td>\n",
       "      <td>3.9</td>\n",
       "    </tr>\n",
       "    <tr>\n",
       "      <th>10414</th>\n",
       "      <td>31642</td>\n",
       "      <td>Thompson</td>\n",
       "      <td>tube</td>\n",
       "      <td>6.89</td>\n",
       "      <td>3825.0</td>\n",
       "      <td>NaN</td>\n",
       "      <td>23.6</td>\n",
       "      <td>23.6</td>\n",
       "      <td>1972.0</td>\n",
       "      <td>3.7</td>\n",
       "    </tr>\n",
       "  </tbody>\n",
       "</table>\n",
       "<p>10415 rows × 10 columns</p>\n",
       "</div>"
      ],
      "text/plain": [
       "          id        author geometry  pressure [MPa]  mass_flux [kg/m2-s]  \\\n",
       "0          4           NaN     tube           13.79                686.0   \n",
       "1          7        Peskov     tube           18.00                750.0   \n",
       "2         10      Thompson     tube             NaN                  NaN   \n",
       "3         12      Thompson      NaN            6.89               7500.0   \n",
       "4         23          Beus  annulus           15.51               1355.0   \n",
       "...      ...           ...      ...             ...                  ...   \n",
       "10410  31633      Thompson     tube           11.03                  NaN   \n",
       "10411  31634  Richenderfer    plate            1.01               2000.0   \n",
       "10412  31637   Weatherhead     tube           13.79                688.0   \n",
       "10413  31640           NaN      NaN           13.79                  NaN   \n",
       "10414  31642      Thompson     tube            6.89               3825.0   \n",
       "\n",
       "       x_e_out [-]  D_e [mm]  D_h [mm]  length [mm]  chf_exp [MW/m2]  \n",
       "0              NaN      11.1      11.1        457.0              2.8  \n",
       "1              NaN      10.0      10.0       1650.0              2.2  \n",
       "2              NaN       1.9       1.9        152.0              3.2  \n",
       "3              NaN       NaN      12.8       1930.0              4.8  \n",
       "4              NaN       5.6      15.2       2134.0              2.1  \n",
       "...            ...       ...       ...          ...              ...  \n",
       "10410          NaN      11.5      11.5          NaN              2.0  \n",
       "10411          NaN      15.0     120.0         10.0              6.2  \n",
       "10412          NaN       NaN      11.1        457.0              2.3  \n",
       "10413          NaN       4.7       4.7          NaN              3.9  \n",
       "10414          NaN      23.6      23.6       1972.0              3.7  \n",
       "\n",
       "[10415 rows x 10 columns]"
      ]
     },
     "execution_count": 4,
     "metadata": {},
     "output_type": "execute_result"
    }
   ],
   "source": [
    "train=df[df['x_e_out [-]'].isnull()!=True]\n",
    "train.reset_index(inplace=True,drop=True)\n",
    "\n",
    "test=df[df['x_e_out [-]'].isnull()==True]\n",
    "test.reset_index(inplace=True,drop=True)\n",
    "test"
   ]
  },
  {
   "cell_type": "code",
   "execution_count": 6,
   "metadata": {},
   "outputs": [
    {
     "data": {
      "text/plain": [
       "['pressure [MPa]',\n",
       " 'mass_flux [kg/m2-s]',\n",
       " 'x_e_out [-]',\n",
       " 'D_e [mm]',\n",
       " 'D_h [mm]',\n",
       " 'length [mm]',\n",
       " 'chf_exp [MW/m2]',\n",
       " 'author',\n",
       " 'geometry']"
      ]
     },
     "execution_count": 6,
     "metadata": {},
     "output_type": "execute_result"
    }
   ],
   "source": [
    "num_cols = df.select_dtypes(include=['float64','int64']).columns.tolist()\n",
    "num_cols.remove('id')\n",
    "\n",
    "cat_cols = df.select_dtypes(include=['object']).columns.tolist()\n",
    "\n",
    "all_features=num_cols + cat_cols\n",
    "all_features"
   ]
  },
  {
   "cell_type": "code",
   "execution_count": 7,
   "metadata": {},
   "outputs": [],
   "source": [
    "from sklearn.impute import SimpleImputer\n",
    "from sklearn.preprocessing import LabelEncoder\n",
    "import re\n",
    "\n",
    "def preprocess_data(train, cat_cols, num_cols):\n",
    "    # Copy the original dataframe to avoid modifying the original data\n",
    "    processed_df = train.copy()\n",
    "    \n",
    "    # Handling missing values in numerical variables\n",
    "    num_imputer = SimpleImputer(strategy='mean')\n",
    "    processed_df[num_cols] = num_imputer.fit_transform(processed_df[num_cols])\n",
    "    \n",
    "    # Handling missing values in categorical variables\n",
    "    cat_imputer = SimpleImputer(strategy='most_frequent')\n",
    "    processed_df[cat_cols] = cat_imputer.fit_transform(processed_df[cat_cols])\n",
    "    \n",
    "    # Label encoding for categorical variables\n",
    "    label_encoder = LabelEncoder()\n",
    "    for col in cat_cols:\n",
    "        processed_df[col] = label_encoder.fit_transform(processed_df[col].astype(str))\n",
    "    \n",
    "    # Preprocess column names\n",
    "    processed_df.columns = [re.sub(r'[\\[\\]<>\\s]+', '_', col) for col in processed_df.columns]\n",
    "    \n",
    "    return processed_df"
   ]
  },
  {
   "cell_type": "code",
   "execution_count": 9,
   "metadata": {},
   "outputs": [
    {
     "data": {
      "text/html": [
       "<div>\n",
       "<style scoped>\n",
       "    .dataframe tbody tr th:only-of-type {\n",
       "        vertical-align: middle;\n",
       "    }\n",
       "\n",
       "    .dataframe tbody tr th {\n",
       "        vertical-align: top;\n",
       "    }\n",
       "\n",
       "    .dataframe thead th {\n",
       "        text-align: right;\n",
       "    }\n",
       "</style>\n",
       "<table border=\"1\" class=\"dataframe\">\n",
       "  <thead>\n",
       "    <tr style=\"text-align: right;\">\n",
       "      <th></th>\n",
       "      <th>id</th>\n",
       "      <th>author</th>\n",
       "      <th>geometry</th>\n",
       "      <th>pressure_MPa_</th>\n",
       "      <th>mass_flux_kg/m2-s_</th>\n",
       "      <th>x_e_out_-_</th>\n",
       "      <th>D_e_mm_</th>\n",
       "      <th>D_h_mm_</th>\n",
       "      <th>length_mm_</th>\n",
       "      <th>chf_exp_MW/m2_</th>\n",
       "    </tr>\n",
       "  </thead>\n",
       "  <tbody>\n",
       "    <tr>\n",
       "      <th>0</th>\n",
       "      <td>0</td>\n",
       "      <td>7</td>\n",
       "      <td>2</td>\n",
       "      <td>7.000000</td>\n",
       "      <td>3770.000000</td>\n",
       "      <td>0.1754</td>\n",
       "      <td>8.589305</td>\n",
       "      <td>10.8</td>\n",
       "      <td>432.0</td>\n",
       "      <td>3.6</td>\n",
       "    </tr>\n",
       "    <tr>\n",
       "      <th>1</th>\n",
       "      <td>1</td>\n",
       "      <td>7</td>\n",
       "      <td>2</td>\n",
       "      <td>10.635066</td>\n",
       "      <td>6049.000000</td>\n",
       "      <td>-0.0416</td>\n",
       "      <td>10.300000</td>\n",
       "      <td>10.3</td>\n",
       "      <td>762.0</td>\n",
       "      <td>6.2</td>\n",
       "    </tr>\n",
       "    <tr>\n",
       "      <th>2</th>\n",
       "      <td>2</td>\n",
       "      <td>7</td>\n",
       "      <td>2</td>\n",
       "      <td>13.790000</td>\n",
       "      <td>2034.000000</td>\n",
       "      <td>0.0335</td>\n",
       "      <td>7.700000</td>\n",
       "      <td>7.7</td>\n",
       "      <td>457.0</td>\n",
       "      <td>2.5</td>\n",
       "    </tr>\n",
       "    <tr>\n",
       "      <th>3</th>\n",
       "      <td>3</td>\n",
       "      <td>0</td>\n",
       "      <td>0</td>\n",
       "      <td>13.790000</td>\n",
       "      <td>3679.000000</td>\n",
       "      <td>-0.0279</td>\n",
       "      <td>5.600000</td>\n",
       "      <td>15.2</td>\n",
       "      <td>2134.0</td>\n",
       "      <td>3.0</td>\n",
       "    </tr>\n",
       "    <tr>\n",
       "      <th>4</th>\n",
       "      <td>5</td>\n",
       "      <td>7</td>\n",
       "      <td>2</td>\n",
       "      <td>17.240000</td>\n",
       "      <td>3648.000000</td>\n",
       "      <td>-0.0711</td>\n",
       "      <td>8.589305</td>\n",
       "      <td>1.9</td>\n",
       "      <td>696.0</td>\n",
       "      <td>3.6</td>\n",
       "    </tr>\n",
       "    <tr>\n",
       "      <th>...</th>\n",
       "      <td>...</td>\n",
       "      <td>...</td>\n",
       "      <td>...</td>\n",
       "      <td>...</td>\n",
       "      <td>...</td>\n",
       "      <td>...</td>\n",
       "      <td>...</td>\n",
       "      <td>...</td>\n",
       "      <td>...</td>\n",
       "      <td>...</td>\n",
       "    </tr>\n",
       "    <tr>\n",
       "      <th>21224</th>\n",
       "      <td>31636</td>\n",
       "      <td>7</td>\n",
       "      <td>2</td>\n",
       "      <td>12.070000</td>\n",
       "      <td>3070.487779</td>\n",
       "      <td>-0.0195</td>\n",
       "      <td>8.589305</td>\n",
       "      <td>1.9</td>\n",
       "      <td>152.0</td>\n",
       "      <td>5.4</td>\n",
       "    </tr>\n",
       "    <tr>\n",
       "      <th>21225</th>\n",
       "      <td>31638</td>\n",
       "      <td>7</td>\n",
       "      <td>2</td>\n",
       "      <td>10.635066</td>\n",
       "      <td>3648.000000</td>\n",
       "      <td>-0.0487</td>\n",
       "      <td>4.700000</td>\n",
       "      <td>4.7</td>\n",
       "      <td>318.0</td>\n",
       "      <td>9.0</td>\n",
       "    </tr>\n",
       "    <tr>\n",
       "      <th>21226</th>\n",
       "      <td>31639</td>\n",
       "      <td>7</td>\n",
       "      <td>2</td>\n",
       "      <td>10.635066</td>\n",
       "      <td>1736.000000</td>\n",
       "      <td>0.0886</td>\n",
       "      <td>8.589305</td>\n",
       "      <td>7.8</td>\n",
       "      <td>591.0</td>\n",
       "      <td>2.3</td>\n",
       "    </tr>\n",
       "    <tr>\n",
       "      <th>21227</th>\n",
       "      <td>31641</td>\n",
       "      <td>7</td>\n",
       "      <td>2</td>\n",
       "      <td>18.270000</td>\n",
       "      <td>658.000000</td>\n",
       "      <td>-0.1224</td>\n",
       "      <td>3.000000</td>\n",
       "      <td>3.0</td>\n",
       "      <td>150.0</td>\n",
       "      <td>2.3</td>\n",
       "    </tr>\n",
       "    <tr>\n",
       "      <th>21228</th>\n",
       "      <td>31643</td>\n",
       "      <td>7</td>\n",
       "      <td>2</td>\n",
       "      <td>6.890000</td>\n",
       "      <td>7568.000000</td>\n",
       "      <td>0.0603</td>\n",
       "      <td>12.800000</td>\n",
       "      <td>12.8</td>\n",
       "      <td>1930.0</td>\n",
       "      <td>3.3</td>\n",
       "    </tr>\n",
       "  </tbody>\n",
       "</table>\n",
       "<p>21229 rows × 10 columns</p>\n",
       "</div>"
      ],
      "text/plain": [
       "          id  author  geometry  pressure_MPa_  mass_flux_kg/m2-s_  x_e_out_-_  \\\n",
       "0          0       7         2       7.000000         3770.000000      0.1754   \n",
       "1          1       7         2      10.635066         6049.000000     -0.0416   \n",
       "2          2       7         2      13.790000         2034.000000      0.0335   \n",
       "3          3       0         0      13.790000         3679.000000     -0.0279   \n",
       "4          5       7         2      17.240000         3648.000000     -0.0711   \n",
       "...      ...     ...       ...            ...                 ...         ...   \n",
       "21224  31636       7         2      12.070000         3070.487779     -0.0195   \n",
       "21225  31638       7         2      10.635066         3648.000000     -0.0487   \n",
       "21226  31639       7         2      10.635066         1736.000000      0.0886   \n",
       "21227  31641       7         2      18.270000          658.000000     -0.1224   \n",
       "21228  31643       7         2       6.890000         7568.000000      0.0603   \n",
       "\n",
       "         D_e_mm_  D_h_mm_  length_mm_  chf_exp_MW/m2_  \n",
       "0       8.589305     10.8       432.0             3.6  \n",
       "1      10.300000     10.3       762.0             6.2  \n",
       "2       7.700000      7.7       457.0             2.5  \n",
       "3       5.600000     15.2      2134.0             3.0  \n",
       "4       8.589305      1.9       696.0             3.6  \n",
       "...          ...      ...         ...             ...  \n",
       "21224   8.589305      1.9       152.0             5.4  \n",
       "21225   4.700000      4.7       318.0             9.0  \n",
       "21226   8.589305      7.8       591.0             2.3  \n",
       "21227   3.000000      3.0       150.0             2.3  \n",
       "21228  12.800000     12.8      1930.0             3.3  \n",
       "\n",
       "[21229 rows x 10 columns]"
      ]
     },
     "execution_count": 9,
     "metadata": {},
     "output_type": "execute_result"
    }
   ],
   "source": [
    "processed_df=preprocess_data(train, cat_cols, num_cols)\n",
    "processed_df"
   ]
  },
  {
   "cell_type": "code",
   "execution_count": 11,
   "metadata": {},
   "outputs": [
    {
     "name": "stdout",
     "output_type": "stream",
     "text": [
      "(21229, 9)\n",
      "(21229,)\n"
     ]
    }
   ],
   "source": [
    "X=processed_df.drop('x_e_out_-_', axis=1)\n",
    "y=processed_df[\"x_e_out_-_\"]\n",
    "\n",
    "print(X.shape)\n",
    "print(y.shape)"
   ]
  },
  {
   "cell_type": "code",
   "execution_count": 13,
   "metadata": {},
   "outputs": [
    {
     "name": "stdout",
     "output_type": "stream",
     "text": [
      "TRAIN SIZE: (16983, 9)\n",
      "TEST SIZE: (4246, 9)\n",
      "TRAIN TARGET SIZE: (16983,)\n",
      "TEST TARGET SIZE: (4246,)\n"
     ]
    }
   ],
   "source": [
    "from sklearn.model_selection import train_test_split\n",
    "\n",
    "X_train, X_test, y_train, y_test = train_test_split(X, \n",
    "                                                    y, \n",
    "                                                    test_size=0.2, \n",
    "                                                    random_state=1,\n",
    "                                                    shuffle=True)\n",
    "\n",
    "print(\"TRAIN SIZE:\", X_train.shape)\n",
    "print(\"TEST SIZE:\", X_test.shape)\n",
    "\n",
    "print(\"TRAIN TARGET SIZE:\", y_train.shape)\n",
    "print(\"TEST TARGET SIZE:\", y_test.shape)"
   ]
  },
  {
   "cell_type": "code",
   "execution_count": 15,
   "metadata": {},
   "outputs": [
    {
     "data": {
      "text/plain": [
       "array([ 2.43192434e-09,  1.48078885e-03, -5.83687927e-03, -7.74015125e-03,\n",
       "       -6.46883422e-06, -3.55749729e-04, -4.93409381e-04,  3.18450784e-05,\n",
       "       -1.82826057e-02])"
      ]
     },
     "execution_count": 15,
     "metadata": {},
     "output_type": "execute_result"
    }
   ],
   "source": [
    "from sklearn.linear_model import LinearRegression\n",
    "\n",
    "model=LinearRegression()\n",
    "\n",
    "model.fit(X_train, y_train)\n",
    "\n",
    "model.coef_"
   ]
  },
  {
   "cell_type": "code",
   "execution_count": 17,
   "metadata": {},
   "outputs": [
    {
     "data": {
      "text/plain": [
       "array([-0.00645932,  0.13347513,  0.01238876, ...,  0.02002732,\n",
       "       -0.03171877, -0.01536786])"
      ]
     },
     "execution_count": 17,
     "metadata": {},
     "output_type": "execute_result"
    }
   ],
   "source": [
    "y_hat=model.predict(X_test)\n",
    "y_hat"
   ]
  },
  {
   "cell_type": "code",
   "execution_count": 18,
   "metadata": {},
   "outputs": [
    {
     "data": {
      "text/plain": [
       "(array([   3.,    0.,    0.,    4.,   25.,   74.,  498., 2451., 1111.,\n",
       "          80.]),\n",
       " array([-0.90348579, -0.78487265, -0.66625951, -0.54764638, -0.42903324,\n",
       "        -0.3104201 , -0.19180697, -0.07319383,  0.04541931,  0.16403244,\n",
       "         0.28264558]),\n",
       " <BarContainer object of 10 artists>)"
      ]
     },
     "execution_count": 18,
     "metadata": {},
     "output_type": "execute_result"
    },
    {
     "data": {
      "image/png": "[encoded data removed]",
      "text/plain": [
       "<Figure size 640x480 with 1 Axes>"
      ]
     },
     "metadata": {},
     "output_type": "display_data"
    }
   ],
   "source": [
    "import matplotlib.pyplot as plt\n",
    "\n",
    "res=y_test-y_hat\n",
    "\n",
    "plt.hist(res)\n"
   ]
  },
  {
   "cell_type": "code",
   "execution_count": 20,
   "metadata": {},
   "outputs": [
    {
     "data": {
      "text/plain": [
       "[<matplotlib.lines.Line2D at 0x7f9be2561310>]"
      ]
     },
     "execution_count": 20,
     "metadata": {},
     "output_type": "execute_result"
    },
    {
     "data": {
      "image/png": "[encoded data removed]",
      "text/plain": [
       "<Figure size 640x480 with 1 Axes>"
      ]
     },
     "metadata": {},
     "output_type": "display_data"
    }
   ],
   "source": [
    "plt.plot(y_hat, y_test, \"b*\")"
   ]
  },
  {
   "cell_type": "code",
   "execution_count": 29,
   "metadata": {},
   "outputs": [
    {
     "name": "stdout",
     "output_type": "stream",
     "text": [
      "RMSE in LinearRegression:  0.007827770998518203 \n"
     ]
    }
   ],
   "source": [
    "from sklearn.metrics import mean_squared_error\n",
    "\n",
    "rmse=mean_squared_error(y_test, y_hat)\n",
    "\n",
    "print(f\"RMSE in LinearRegression:  {rmse} \")"
   ]
  },
  {
   "attachments": {},
   "cell_type": "markdown",
   "metadata": {},
   "source": [
    "# Regularization:\n",
    "- Ridge\n",
    "- Lasso\n",
    "- ElasticNet"
   ]
  },
  {
   "attachments": {},
   "cell_type": "markdown",
   "metadata": {},
   "source": [
    "## Ridge"
   ]
  },
  {
   "cell_type": "code",
   "execution_count": 28,
   "metadata": {},
   "outputs": [
    {
     "name": "stdout",
     "output_type": "stream",
     "text": [
      "Train data shape of X = (16983, 9) and Y = (16983,) : \n",
      "Test data shape of X = (4246, 9) and Y = (4246,) : \n"
     ]
    }
   ],
   "source": [
    "# Example Scaling - It's a part of Ridge\n",
    "\n",
    "from sklearn.preprocessing import StandardScaler\n",
    "\n",
    "sc=StandardScaler()\n",
    "\n",
    "X_train_sc=sc.fit_transform(X_train)\n",
    "X_test_sc=sc.fit_transform(X_test)\n",
    "\n",
    "print(\"Train data shape of X = % s and Y = % s : \"%( \n",
    "    X_train.shape, y_train.shape)) \n",
    "  \n",
    "print(\"Test data shape of X = % s and Y = % s : \"%( \n",
    "    X_test.shape, y_test.shape)) "
   ]
  },
  {
   "cell_type": "code",
   "execution_count": 33,
   "metadata": {},
   "outputs": [
    {
     "name": "stdout",
     "output_type": "stream",
     "text": [
      "RMSE with SC: 0.00782429820616918\n"
     ]
    }
   ],
   "source": [
    "lreg=LinearRegression()\n",
    "lreg.fit(X_train_sc, y_train)\n",
    "lreg_pred=lreg.predict(X_test_sc)\n",
    "\n",
    "rmse_sc=mean_squared_error(y_test, lreg_pred)\n",
    "print(\"RMSE with SC:\", rmse_sc)"
   ]
  },
  {
   "cell_type": "code",
   "execution_count": 49,
   "metadata": {},
   "outputs": [
    {
     "name": "stdout",
     "output_type": "stream",
     "text": [
      "RMSE in LR with Ridge: 0.008222314962120975\n"
     ]
    }
   ],
   "source": [
    "from sklearn.linear_model import Ridge\n",
    "\n",
    "ridge=Ridge(alpha=100000)  # If alpha > 1000000, RMSE increase\n",
    "ridge.fit(X_train, y_train)\n",
    "ridge_pred=ridge.predict(X_test)\n",
    "\n",
    "rmse_ridge=mean_squared_error(y_test, ridge_pred)\n",
    "print(f\"RMSE in LR with Ridge: {rmse_ridge}\")\n"
   ]
  },
  {
   "attachments": {},
   "cell_type": "markdown",
   "metadata": {},
   "source": [
    "## Lasso"
   ]
  },
  {
   "cell_type": "code",
   "execution_count": 53,
   "metadata": {},
   "outputs": [
    {
     "name": "stdout",
     "output_type": "stream",
     "text": [
      "RMSE in LR with Lasso: 0.01019298653806212\n"
     ]
    }
   ],
   "source": [
    "from sklearn.linear_model import Lasso\n",
    "lasso=Lasso(alpha=100) # If alpha > 100, RMSE increase\n",
    "lasso.fit(X_train, y_train)\n",
    "lasso_pred=lasso.predict(X_test)\n",
    "\n",
    "rmse_lasso=mean_squared_error(y_test, lasso_pred)\n",
    "print(f\"RMSE in LR with Lasso: {rmse_lasso}\")\n"
   ]
  },
  {
   "attachments": {},
   "cell_type": "markdown",
   "metadata": {},
   "source": [
    "## ElasticNet"
   ]
  },
  {
   "cell_type": "code",
   "execution_count": 54,
   "metadata": {},
   "outputs": [
    {
     "name": "stdout",
     "output_type": "stream",
     "text": [
      "RMSE in LR with ElasticNet: 0.00906539628084612\n"
     ]
    }
   ],
   "source": [
    "from sklearn.linear_model import ElasticNet\n",
    "en=ElasticNet()\n",
    "en.fit(X_train, y_train)\n",
    "en_pred=en.predict(X_test)\n",
    "\n",
    "rmse_en=mean_squared_error(y_test, en_pred)\n",
    "print(f\"RMSE in LR with ElasticNet: {rmse_en}\")"
   ]
  },
  {
   "cell_type": "code",
   "execution_count": 55,
   "metadata": {},
   "outputs": [],
   "source": [
    "from sklearn.model_selection import KFold\n",
    "\n",
    "ls_rmse_errors = []\n",
    "ls_std_errors = []\n",
    "alphas = np.logspace(-1, 2, 50)\n",
    "for alpha in alphas:\n",
    "    kf = KFold(n_splits=5, shuffle=True, random_state=421)\n",
    "    ls_error = []\n",
    "    for idx_train, idx_test in kf.split(X_train):\n",
    "        X_train_cv = X_train.iloc[idx_train]#.copy()\n",
    "        y_train_cv = y_train.iloc[idx_train]\n",
    "        X_test_cv = X_train.iloc[idx_test]#.copy()\n",
    "        y_test_cv = y_train.iloc[idx_test]\n",
    "\n",
    "        sc = StandardScaler()\n",
    "        X_train_cv_sc = sc.fit_transform(X_train_cv)\n",
    "        X_test_cv_sc = sc.transform(X_test_cv)\n",
    "\n",
    "        ridge = Ridge(alpha=alpha)\n",
    "        ridge.fit(X_train_cv_sc, y_train_cv)\n",
    "\n",
    "        y_pred_cv = ridge.predict(X_test_cv_sc)\n",
    "\n",
    "        rmse = mean_squared_error(y_test_cv, y_pred_cv)\n",
    "        ls_error.append(rmse)\n",
    "    \n",
    "    ls_rmse_errors.append(np.mean(ls_error))\n",
    "    ls_std_errors.append(np.std(ls_error))"
   ]
  },
  {
   "cell_type": "code",
   "execution_count": 56,
   "metadata": {},
   "outputs": [
    {
     "data": {
      "text/plain": [
       "[<matplotlib.lines.Line2D at 0x7f9bb685f950>]"
      ]
     },
     "execution_count": 56,
     "metadata": {},
     "output_type": "execute_result"
    },
    {
     "data": {
      "image/png": "[encoded data removed]",
      "text/plain": [
       "<Figure size 640x480 with 1 Axes>"
      ]
     },
     "metadata": {},
     "output_type": "display_data"
    }
   ],
   "source": [
    "plt.plot(alphas, ls_rmse_errors)"
   ]
  }
 ],
 "metadata": {
  "kernelspec": {
   "display_name": "Python 3",
   "language": "python",
   "name": "python3"
  },
  "language_info": {
   "codemirror_mode": {
    "name": "ipython",
    "version": 3
   },
   "file_extension": ".py",
   "mimetype": "text/x-python",
   "name": "python",
   "nbconvert_exporter": "python",
   "pygments_lexer": "ipython3",
   "version": "3.7.4"
  },
  "orig_nbformat": 4
 },
 "nbformat": 4,
 "nbformat_minor": 2
}
